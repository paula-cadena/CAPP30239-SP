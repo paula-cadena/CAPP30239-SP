{
 "cells": [
  {
   "cell_type": "code",
   "execution_count": 1,
   "metadata": {},
   "outputs": [],
   "source": [
    "import pandas as pd\n",
    "import os\n",
    "import numpy as np"
   ]
  },
  {
   "cell_type": "markdown",
   "metadata": {},
   "source": [
    "#### Join datasets"
   ]
  },
  {
   "cell_type": "code",
   "execution_count": 2,
   "metadata": {},
   "outputs": [],
   "source": [
    "def join_datasets():\n",
    "    folder_path = \"/Users/paulacadena/CAPP30239-SP/data\"\n",
    "    dataframes = []\n",
    "\n",
    "    for filename in os.listdir(folder_path):\n",
    "        if filename.endswith(\".csv\"):\n",
    "            file_path = os.path.join(folder_path, filename)\n",
    "            try:\n",
    "                df = pd.read_csv(file_path, encoding=\"ISO-8859-1\")\n",
    "                dataframes.append(df)\n",
    "            except UnicodeDecodeError:\n",
    "                print(f\"Could not decode {filename}. Skipping.\")\n",
    "\n",
    "    return pd.concat(dataframes, ignore_index=True)"
   ]
  },
  {
   "cell_type": "markdown",
   "metadata": {},
   "source": [
    "#### Clean and unify"
   ]
  },
  {
   "cell_type": "code",
   "execution_count": 3,
   "metadata": {},
   "outputs": [],
   "source": [
    "def clean_dataset():\n",
    "    world_bank = join_datasets()\n",
    "\n",
    "    #Correctly name missing values\n",
    "    world_bank.replace(\"..\", np.nan, inplace=True)\n",
    "    #Drop missing values in identificating columns\n",
    "    world_bank.dropna(subset=[\"Series Code\", \"Country Code\", \"Series Name\"], inplace=True)\n",
    "    #Drop wrongly identified country codes\n",
    "    world_bank = world_bank[world_bank[\"Country Code\"].str.len() <= 3]\n",
    "\n",
    "    return world_bank"
   ]
  },
  {
   "cell_type": "markdown",
   "metadata": {},
   "source": [
    "##### For easier use in visualizations"
   ]
  },
  {
   "cell_type": "code",
   "execution_count": 4,
   "metadata": {},
   "outputs": [],
   "source": [
    "def wide_long_ds():\n",
    "    world_bank = clean_dataset()\n",
    "\n",
    "    # Identify the columns to transform\n",
    "    value_vars = [col for col in world_bank.columns if \"YR\" in col]\n",
    "\n",
    "    # Melt the DataFrame\n",
    "    long_format = pd.melt(world_bank, \n",
    "                        id_vars=[col for col in world_bank.columns if col not in value_vars],\n",
    "                        value_vars=value_vars, \n",
    "                        var_name='YEAR', \n",
    "                        value_name='Value')\n",
    "\n",
    "    # Extract the year from the 'YEAR' column\n",
    "    long_format['YEAR'] = long_format['YEAR'].str.extract(r'(\\d{4})')[0].astype(int)\n",
    "    #Change Value column to numeric\n",
    "    long_format['Value'] = pd.to_numeric(long_format['Value'], errors='coerce')\n",
    "\n",
    "    return long_format"
   ]
  },
  {
   "cell_type": "code",
   "execution_count": 5,
   "metadata": {},
   "outputs": [],
   "source": [
    "world_bank = wide_long_ds()"
   ]
  },
  {
   "cell_type": "markdown",
   "metadata": {},
   "source": [
    "#### Exploration"
   ]
  },
  {
   "cell_type": "code",
   "execution_count": 6,
   "metadata": {},
   "outputs": [
    {
     "name": "stdout",
     "output_type": "stream",
     "text": [
      "<class 'pandas.core.frame.DataFrame'>\n",
      "RangeIndex: 8018304 entries, 0 to 8018303\n",
      "Data columns (total 6 columns):\n",
      " #   Column        Dtype  \n",
      "---  ------        -----  \n",
      " 0   Country Name  object \n",
      " 1   Country Code  object \n",
      " 2   Series Name   object \n",
      " 3   Series Code   object \n",
      " 4   YEAR          int64  \n",
      " 5   Value         float64\n",
      "dtypes: float64(1), int64(1), object(4)\n",
      "memory usage: 367.0+ MB\n"
     ]
    }
   ],
   "source": [
    "world_bank.info()"
   ]
  }
 ],
 "metadata": {
  "kernelspec": {
   "display_name": "Python 3",
   "language": "python",
   "name": "python3"
  },
  "language_info": {
   "codemirror_mode": {
    "name": "ipython",
    "version": 3
   },
   "file_extension": ".py",
   "mimetype": "text/x-python",
   "name": "python",
   "nbconvert_exporter": "python",
   "pygments_lexer": "ipython3",
   "version": "3.11.6"
  }
 },
 "nbformat": 4,
 "nbformat_minor": 2
}
